{
 "cells": [
  {
   "cell_type": "code",
   "execution_count": 1,
   "id": "44e7ac9c-79c0-4689-9ffc-6339760fa530",
   "metadata": {},
   "outputs": [],
   "source": [
    "import numpy as np\n",
    "import pandas as pd\n",
    "import matplotlib.pyplot as plt\n",
    "import seaborn as sns\n",
    "import math"
   ]
  },
  {
   "cell_type": "code",
   "execution_count": null,
   "id": "cd374df8-1f94-4f46-ae8a-cd6ea8360c13",
   "metadata": {},
   "outputs": [],
   "source": []
  },
  {
   "cell_type": "code",
   "execution_count": null,
   "id": "25aa4754-cc24-4d0d-bd4d-a8aa6bb7556f",
   "metadata": {},
   "outputs": [],
   "source": [
    "Q1.What is probability density function?"
   ]
  },
  {
   "cell_type": "code",
   "execution_count": null,
   "id": "610e5cfd-d105-45f4-8d68-372301738603",
   "metadata": {},
   "outputs": [],
   "source": [
    "let X be a continoues random variable that take all value between a range .\n",
    "then its behaviour describe by a function called probability density function.\n",
    "\n",
    "P(a<=X<=b)= integration from a to b ( f(x) * dx )."
   ]
  },
  {
   "cell_type": "code",
   "execution_count": null,
   "id": "3885792a-4d10-467f-bf15-07d1373741ef",
   "metadata": {},
   "outputs": [],
   "source": [
    "Q2. What are the types of Probability distribution?"
   ]
  },
  {
   "cell_type": "code",
   "execution_count": null,
   "id": "6be62ff0-dfb7-412f-b8ca-66ddbc62bc39",
   "metadata": {},
   "outputs": [],
   "source": [
    "1)Barnouli distribution.\n",
    "2)Binomial distribution.\n",
    "3)Normal distribution.\n",
    "4)Poission  distribution.\n",
    "5)exponential distribution.\n",
    "6)uniform distribution."
   ]
  },
  {
   "cell_type": "code",
   "execution_count": null,
   "id": "2deef434-e4c4-418b-8fa4-fde48ad2ad78",
   "metadata": {},
   "outputs": [],
   "source": [
    "Q3. Write a Python function to calculate the probability density function of a normal distribution with\n",
    "given mean and standard deviation at a given point."
   ]
  },
  {
   "cell_type": "code",
   "execution_count": 4,
   "id": "7737e0d0-523c-4103-9a25-01d76b234a28",
   "metadata": {},
   "outputs": [
    {
     "name": "stdout",
     "output_type": "stream",
     "text": [
      "The PDF at point 1.5 is: 0.0411\n"
     ]
    }
   ],
   "source": [
    "import math\n",
    "\n",
    "def normal_pdf(x, mean, std_dev):\n",
    "    \"\"\"\n",
    "    Calculate the probability density function of a normal distribution at a given point.\n",
    "\n",
    "    Parameters:\n",
    "        x (float): The point at which the PDF is calculated.\n",
    "        mean (float): The mean of the normal distribution.\n",
    "        std_dev (float): The standard deviation of the normal distribution.\n",
    "\n",
    "    Returns:\n",
    "        float: The probability density function value at point x.\n",
    "    \"\"\"\n",
    "    if std_dev <= 0:\n",
    "        raise ValueError(\"Standard deviation must be a positive number.\")\n",
    "\n",
    "    coefficient = 1 / (std_dev * math.sqrt(2 * math.pi))\n",
    "    exponent = -((x - mean) ** 2) / (2 * std_dev ** 2)\n",
    "    pdf_value = coefficient * math.exp(exponent)\n",
    "\n",
    "    return pdf_value\n",
    "mean = 5\n",
    "std_dev = 9\n",
    "point = 1.5\n",
    "\n",
    "pdf_at_point = normal_pdf(point, mean, std_dev)\n",
    "print(f\"The PDF at point {point} is: {round(pdf_at_point,4)}\")"
   ]
  },
  {
   "cell_type": "code",
   "execution_count": null,
   "id": "dfac14e7-55f0-43e2-95ae-adf1df17dc1c",
   "metadata": {},
   "outputs": [],
   "source": [
    "Q4. What are the properties of Binomial distribution? Give two examples of events where binomial\n",
    "distribution can be applied."
   ]
  },
  {
   "cell_type": "code",
   "execution_count": null,
   "id": "907d76ac-8b54-4a44-965d-36fcccdab837",
   "metadata": {},
   "outputs": [],
   "source": [
    "There are only two possible outcomes in binomial distribution: true or false, success or failure, yes or no, etc.\n",
    "there are fixed n numbers of trial.\n",
    "Each trial is an independent.\n",
    "probability of success or failure is same for each trial.\n",
    "#examples:-\n",
    "1)tossing a coin 5 tims.No of times head occure.\n",
    "n=5\n",
    "2) Rohan try to hit a target 10 times.Probability of hit a target is ?\n",
    "n=10"
   ]
  },
  {
   "cell_type": "code",
   "execution_count": null,
   "id": "5d1d932f-d70e-4e97-bdbb-ebde477ddf9b",
   "metadata": {},
   "outputs": [],
   "source": [
    "Q5. Generate a random sample of size 1000 from a binomial distribution with probability of success 0.4\n",
    "and plot a histogram of the results using matplotlib."
   ]
  },
  {
   "cell_type": "code",
   "execution_count": 13,
   "id": "6a6e3942-ef68-46f8-8518-074c7dc51793",
   "metadata": {},
   "outputs": [
    {
     "data": {
      "image/png": "[encoded data removed]",
      "text/plain": [
       "<Figure size 640x480 with 1 Axes>"
      ]
     },
     "metadata": {},
     "output_type": "display_data"
    }
   ],
   "source": [
    "p=0.4 # probability of sucess\n",
    "q=1-p # probability of failur\n",
    "n=1000 #sample size \n",
    "data=np.random.binomial(1,p,n)\n",
    "plt.hist(data,bins=2)\n",
    "plt.xticks([0,1],['Failure','Success'])\n",
    "plt.xlabel('Outcomes')\n",
    "plt.ylabel(\"Frequency\")\n",
    "plt.title(f'Histogram of Binomial Distribution\\nProbability of Success: {p}')\n",
    "plt.grid(True)\n",
    "plt.show()\n",
    "\n",
    "\n"
   ]
  },
  {
   "cell_type": "code",
   "execution_count": null,
   "id": "cfe9e9e2-99b1-4792-b498-2dd56f3c1c97",
   "metadata": {},
   "outputs": [],
   "source": []
  },
  {
   "cell_type": "code",
   "execution_count": null,
   "id": "2bb708e1-2dc5-4498-8f4f-e7a1a71d03b2",
   "metadata": {},
   "outputs": [],
   "source": [
    "Q6.Write a Python function to calculate the cumulative distribution function of a Poisson distribution\n",
    "with given mean at a given point."
   ]
  },
  {
   "cell_type": "code",
   "execution_count": 5,
   "id": "bf816bf5-5a81-4e34-9d6e-41b47a784467",
   "metadata": {},
   "outputs": [
    {
     "name": "stdout",
     "output_type": "stream",
     "text": [
      "CDF at k = 3 : 0.2650259152973617\n"
     ]
    }
   ],
   "source": [
    "import math\n",
    "\n",
    "def poisson_cdf(mean, k):\n",
    "    \"\"\"\n",
    "    Calculate the cumulative distribution function (CDF) of a Poisson distribution.\n",
    "\n",
    "    Parameters:\n",
    "    mean (float): The mean of the Poisson distribution.\n",
    "    k (int): The value at which to calculate the CDF.\n",
    "\n",
    "    Returns:\n",
    "    float: The cumulative probability of the Poisson distribution being less than or equal to k.\n",
    "    \"\"\"\n",
    "    if k < 0:\n",
    "        return 0.0\n",
    "\n",
    "    cdf = 0.0\n",
    "    for i in range(k + 1):\n",
    "        cdf += math.exp(-mean) * (mean ** i) / math.factorial(i)\n",
    "\n",
    "    return cdf\n",
    "\n",
    "# Example usage:\n",
    "mean = 5\n",
    "k = 3\n",
    "cdf_value = poisson_cdf(mean, k)\n",
    "print(\"CDF at k =\", k, \":\", cdf_value)\n"
   ]
  },
  {
   "cell_type": "code",
   "execution_count": null,
   "id": "1cfbcf52-62b4-40ab-8292-813330108fee",
   "metadata": {},
   "outputs": [],
   "source": [
    "Q7. How Binomial distribution different from Poisson distribution?"
   ]
  },
  {
   "cell_type": "code",
   "execution_count": null,
   "id": "ac0f8821-5f0e-493f-843f-5f6dae12edc4",
   "metadata": {},
   "outputs": [],
   "source": [
    "The Binomial is based on discrete events, while the Poisson is based on continuous events.\n",
    "The Binomial has just two possible outcomes, while the Poisson has an infinite number of possible outcomes.\n",
    "In a Binomial distribution, there is a fixed number of trials, while in a Poisson distribution, there could be \n",
    "any number of events that occur during a certain time interval.\n",
    "The Binomial is biparametric, while the Poisson is uniparametric.\n"
   ]
  },
  {
   "cell_type": "code",
   "execution_count": null,
   "id": "9bd71e04-7524-45fd-8fec-e7659b4e2211",
   "metadata": {},
   "outputs": [],
   "source": [
    "Q8. Generate a random sample of size 1000 from a Poisson distribution with mean 5 and calculate the\n",
    "sample mean and variance.\n"
   ]
  },
  {
   "cell_type": "code",
   "execution_count": 3,
   "id": "37b6b049-403c-477d-a5ec-279caf3395dd",
   "metadata": {},
   "outputs": [
    {
     "name": "stdout",
     "output_type": "stream",
     "text": [
      "sample mean is : 5.055\n",
      "sample variance is : 5.001975\n"
     ]
    }
   ],
   "source": [
    "size=1000\n",
    "mean=5\n",
    "sample=np.random.poisson(mean,size)\n",
    "sample_mean=np.mean(sample)\n",
    "sample_varince=np.var(sample)\n",
    "print(\"sample mean is :\",sample_mean)\n",
    "print(\"sample variance is :\",sample_varince)"
   ]
  },
  {
   "cell_type": "code",
   "execution_count": null,
   "id": "1ad539fc-28a8-4d01-8328-105b818023e7",
   "metadata": {},
   "outputs": [],
   "source": [
    "Q9. How mean and variance are related in Binomial distribution and Poisson distribution?"
   ]
  },
  {
   "cell_type": "code",
   "execution_count": null,
   "id": "39de6478-b95b-4602-b00a-e8da218dfa87",
   "metadata": {},
   "outputs": [],
   "source": [
    "in binomial distribution mean is np and variance is npq . so variance=q*mean \n",
    "in poisson distribution mean = λ and variance =λ . so variance=mean=λ"
   ]
  },
  {
   "cell_type": "code",
   "execution_count": null,
   "id": "e8cf4f50-20e3-4bde-ae42-2e7b99fb0f26",
   "metadata": {},
   "outputs": [],
   "source": [
    "Q10. In normal distribution with respect to mean position, where does the least frequent data appear?"
   ]
  },
  {
   "cell_type": "code",
   "execution_count": 8,
   "id": "565973e8-5f08-40fc-ac16-6d4fc6774dc2",
   "metadata": {},
   "outputs": [
    {
     "data": {
      "text/plain": [
       "<matplotlib.legend.Legend at 0x7f578422c1f0>"
      ]
     },
     "execution_count": 8,
     "metadata": {},
     "output_type": "execute_result"
    },
    {
     "data": {
      "image/png": "[encoded data removed]",
      "text/plain": [
       "<Figure size 640x480 with 1 Axes>"
      ]
     },
     "metadata": {},
     "output_type": "display_data"
    }
   ],
   "source": [
    "import pandas as pd\n",
    "%matplotlib inline\n",
    "  \n",
    "# No of Data points\n",
    "N = 500\n",
    "  \n",
    "# initializing random values\n",
    "data = np.random.randn(N)\n",
    "  \n",
    "# getting data of the histogram\n",
    "count, bins_count = np.histogram(data, bins=10)\n",
    "  \n",
    "# finding the PDF of the histogram using count values\n",
    "pdf = count / sum(count)\n",
    "  \n",
    "# using numpy np.cumsum to calculate the CDF\n",
    "# We can also find using the PDF values by looping and adding\n",
    "cdf = np.cumsum(pdf)\n",
    "  \n",
    "# plotting PDF and CDF\n",
    "plt.plot(bins_count[1:], pdf, color=\"red\", label=\"PDF\")\n",
    "plt.plot(bins_count[1:], cdf, label=\"CDF\")\n",
    "plt.legend()"
   ]
  },
  {
   "cell_type": "code",
   "execution_count": null,
   "id": "0c26f5d7-8d38-47c7-9c90-5a889fdcaa6b",
   "metadata": {},
   "outputs": [],
   "source": []
  }
 ],
 "metadata": {
  "kernelspec": {
   "display_name": "Python 3 (ipykernel)",
   "language": "python",
   "name": "python3"
  },
  "language_info": {
   "codemirror_mode": {
    "name": "ipython",
    "version": 3
   },
   "file_extension": ".py",
   "mimetype": "text/x-python",
   "name": "python",
   "nbconvert_exporter": "python",
   "pygments_lexer": "ipython3",
   "version": "3.10.8"
  }
 },
 "nbformat": 4,
 "nbformat_minor": 5
}
